{
 "cells": [
  {
   "cell_type": "code",
   "execution_count": 4,
   "metadata": {},
   "outputs": [
    {
     "name": "stdout",
     "output_type": "stream",
     "text": [
      "tensor([[0.3969, 0.2800, 0.8349, 0.2901, 0.6935],\n",
      "        [0.8142, 0.6477, 0.4673, 0.2253, 0.5960],\n",
      "        [0.6400, 0.8461, 0.3737, 0.8131, 0.2501]])\n",
      "tensor([[[0.3969, 0.2800, 0.8349, 0.2901, 0.6935]],\n",
      "\n",
      "        [[0.8142, 0.6477, 0.4673, 0.2253, 0.5960]],\n",
      "\n",
      "        [[0.6400, 0.8461, 0.3737, 0.8131, 0.2501]]])\n",
      "tensor([[[[0.3969],\n",
      "          [0.2800],\n",
      "          [0.8349],\n",
      "          [0.2901],\n",
      "          [0.6935]]],\n",
      "\n",
      "\n",
      "        [[[0.8142],\n",
      "          [0.6477],\n",
      "          [0.4673],\n",
      "          [0.2253],\n",
      "          [0.5960]]],\n",
      "\n",
      "\n",
      "        [[[0.6400],\n",
      "          [0.8461],\n",
      "          [0.3737],\n",
      "          [0.8131],\n",
      "          [0.2501]]]])\n"
     ]
    }
   ],
   "source": [
    "import torch\n",
    "\n",
    "x = torch.randn(2, 3)\n",
    "mask = torch.tensor([True, False, True])  # shape (3,)\n",
    "x.masked_fill(mask, 0)  # ❌ 错，因为 (3,) 无法广播到 (2, 3)\n",
    "\n",
    "a = torch.rand((3, 5))\n",
    "print(a)\n",
    "print(a.unsqueeze(1))\n",
    "print(a.unsqueeze(1).unsqueeze(-1))"
   ]
  },
  {
   "cell_type": "code",
   "execution_count": 9,
   "metadata": {},
   "outputs": [
    {
     "name": "stdout",
     "output_type": "stream",
     "text": [
      "tensor([[[[1.2000, 0.3000, 0.4000, 0.2000,   -inf],\n",
      "          [0.3000, 1.0000, 0.6000, 0.5000,   -inf],\n",
      "          [0.4000, 0.6000, 1.3000, 0.7000,   -inf],\n",
      "          [0.2000, 0.5000, 0.7000, 1.1000,   -inf],\n",
      "          [0.1000, 0.1000, 0.2000, 0.4000,   -inf]]]])\n"
     ]
    }
   ],
   "source": [
    "import torch\n",
    "\n",
    "attn_output_weights = torch.tensor([\n",
    "    [1.2, 0.3, 0.4, 0.2, 0.1],  # token 0\n",
    "    [0.3, 1.0, 0.6, 0.5, 0.1],  # token 1\n",
    "    [0.4, 0.6, 1.3, 0.7, 0.2],  # token 2\n",
    "    [0.2, 0.5, 0.7, 1.1, 0.4],  # token 3\n",
    "    [0.1, 0.1, 0.2, 0.4, 1.5]   # token 4 (padding)\n",
    "])\n",
    "key_padding_mask = torch.tensor([[False, False, False, False, True]])  # 只有最后一个 token 是 padding\n",
    "# print(key_padding_mask)\n",
    "attn_output_weights = attn_output_weights.masked_fill(key_padding_mask.unsqueeze(1).unsqueeze(2) == 1, float('-inf'))\n",
    "print(attn_output_weights)"
   ]
  }
 ],
 "metadata": {
  "kernelspec": {
   "display_name": "main",
   "language": "python",
   "name": "python3"
  },
  "language_info": {
   "codemirror_mode": {
    "name": "ipython",
    "version": 3
   },
   "file_extension": ".py",
   "mimetype": "text/x-python",
   "name": "python",
   "nbconvert_exporter": "python",
   "pygments_lexer": "ipython3",
   "version": "3.9.0"
  }
 },
 "nbformat": 4,
 "nbformat_minor": 2
}
